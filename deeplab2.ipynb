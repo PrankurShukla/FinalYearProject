{
 "cells": [
  {
   "cell_type": "code",
   "execution_count": 1,
   "id": "a0fa13ff",
   "metadata": {
    "_cell_guid": "b1076dfc-b9ad-4769-8c92-a6c4dae69d19",
    "_uuid": "8f2839f25d086af736a60e9eeb907d3b93b6e0e5",
    "execution": {
     "iopub.execute_input": "2025-04-25T21:42:49.492260Z",
     "iopub.status.busy": "2025-04-25T21:42:49.492024Z",
     "iopub.status.idle": "2025-04-26T01:24:18.039858Z",
     "shell.execute_reply": "2025-04-26T01:24:18.038784Z"
    },
    "papermill": {
     "duration": 13288.552266,
     "end_time": "2025-04-26T01:24:18.041244",
     "exception": false,
     "start_time": "2025-04-25T21:42:49.488978",
     "status": "completed"
    },
    "tags": []
   },
   "outputs": [
    {
     "name": "stderr",
     "output_type": "stream",
     "text": [
      "2025-04-25 21:43:00.599506: E external/local_xla/xla/stream_executor/cuda/cuda_fft.cc:477] Unable to register cuFFT factory: Attempting to register factory for plugin cuFFT when one has already been registered\n",
      "WARNING: All log messages before absl::InitializeLog() is called are written to STDERR\n",
      "E0000 00:00:1745617380.789735      19 cuda_dnn.cc:8310] Unable to register cuDNN factory: Attempting to register factory for plugin cuDNN when one has already been registered\n",
      "E0000 00:00:1745617380.841736      19 cuda_blas.cc:1418] Unable to register cuBLAS factory: Attempting to register factory for plugin cuBLAS when one has already been registered\n",
      "/usr/local/lib/python3.11/dist-packages/albumentations/__init__.py:28: UserWarning: A new version of Albumentations is available: '2.0.5' (you have '2.0.4'). Upgrade using: pip install -U albumentations. To disable automatic update checks, set the environment variable NO_ALBUMENTATIONS_UPDATE to 1.\n",
      "  check_for_updates()\n"
     ]
    },
    {
     "name": "stdout",
     "output_type": "stream",
     "text": [
      "Using device: cuda\n",
      "Found 590 valid image-mask pairs\n",
      "Train set size: 472\n",
      "Found 590 valid image-mask pairs\n",
      "Val set size: 59\n",
      "Found 590 valid image-mask pairs\n",
      "Test set size: 59\n"
     ]
    },
    {
     "name": "stderr",
     "output_type": "stream",
     "text": [
      "Downloading: \"https://download.pytorch.org/models/resnet50-0676ba61.pth\" to /root/.cache/torch/hub/checkpoints/resnet50-0676ba61.pth\n",
      "100%|██████████| 97.8M/97.8M [00:00<00:00, 215MB/s]\n",
      "/usr/local/lib/python3.11/dist-packages/torch/optim/lr_scheduler.py:62: UserWarning: The verbose parameter is deprecated. Please use get_last_lr() to access the learning rate.\n",
      "  warnings.warn(\n"
     ]
    },
    {
     "name": "stdout",
     "output_type": "stream",
     "text": [
      "\n",
      "Epoch 1/50\n"
     ]
    },
    {
     "name": "stderr",
     "output_type": "stream",
     "text": [
      "100%|██████████| 59/59 [04:03<00:00,  4.12s/it, loss=0.605]\n"
     ]
    },
    {
     "name": "stdout",
     "output_type": "stream",
     "text": [
      "Train Loss: 0.6049\n",
      "Val Loss: 0.3211\n",
      "Dice Score: 0.8252\n",
      "IoU Score: 0.7043\n",
      "Saved best model with Dice score: 0.8252\n",
      "\n",
      "Epoch 2/50\n"
     ]
    },
    {
     "name": "stderr",
     "output_type": "stream",
     "text": [
      "100%|██████████| 59/59 [04:14<00:00,  4.32s/it, loss=0.407]\n"
     ]
    },
    {
     "name": "stdout",
     "output_type": "stream",
     "text": [
      "Train Loss: 0.4069\n",
      "Val Loss: 0.2446\n",
      "Dice Score: 0.8930\n",
      "IoU Score: 0.8074\n",
      "Saved best model with Dice score: 0.8930\n",
      "\n",
      "Epoch 3/50\n"
     ]
    },
    {
     "name": "stderr",
     "output_type": "stream",
     "text": [
      "100%|██████████| 59/59 [04:14<00:00,  4.31s/it, loss=0.294]\n"
     ]
    },
    {
     "name": "stdout",
     "output_type": "stream",
     "text": [
      "Train Loss: 0.2944\n",
      "Val Loss: 0.2164\n",
      "Dice Score: 0.9087\n",
      "IoU Score: 0.8337\n",
      "Saved best model with Dice score: 0.9087\n",
      "\n",
      "Epoch 4/50\n"
     ]
    },
    {
     "name": "stderr",
     "output_type": "stream",
     "text": [
      "100%|██████████| 59/59 [04:14<00:00,  4.32s/it, loss=0.214]\n"
     ]
    },
    {
     "name": "stdout",
     "output_type": "stream",
     "text": [
      "Train Loss: 0.2144\n",
      "Val Loss: 0.1533\n",
      "Dice Score: 0.9235\n",
      "IoU Score: 0.8590\n",
      "Saved best model with Dice score: 0.9235\n",
      "\n",
      "Epoch 5/50\n"
     ]
    },
    {
     "name": "stderr",
     "output_type": "stream",
     "text": [
      "100%|██████████| 59/59 [04:15<00:00,  4.32s/it, loss=0.163]\n"
     ]
    },
    {
     "name": "stdout",
     "output_type": "stream",
     "text": [
      "Train Loss: 0.1633\n",
      "Val Loss: 0.1334\n",
      "Dice Score: 0.9094\n",
      "IoU Score: 0.8356\n",
      "\n",
      "Epoch 6/50\n"
     ]
    },
    {
     "name": "stderr",
     "output_type": "stream",
     "text": [
      "100%|██████████| 59/59 [04:14<00:00,  4.31s/it, loss=0.133]\n"
     ]
    },
    {
     "name": "stdout",
     "output_type": "stream",
     "text": [
      "Train Loss: 0.1331\n",
      "Val Loss: 0.1082\n",
      "Dice Score: 0.9337\n",
      "IoU Score: 0.8767\n",
      "Saved best model with Dice score: 0.9337\n",
      "\n",
      "Epoch 7/50\n"
     ]
    },
    {
     "name": "stderr",
     "output_type": "stream",
     "text": [
      "100%|██████████| 59/59 [04:14<00:00,  4.32s/it, loss=0.108]\n"
     ]
    },
    {
     "name": "stdout",
     "output_type": "stream",
     "text": [
      "Train Loss: 0.1083\n",
      "Val Loss: 0.0975\n",
      "Dice Score: 0.9386\n",
      "IoU Score: 0.8857\n",
      "Saved best model with Dice score: 0.9386\n",
      "\n",
      "Epoch 8/50\n"
     ]
    },
    {
     "name": "stderr",
     "output_type": "stream",
     "text": [
      "100%|██████████| 59/59 [04:14<00:00,  4.32s/it, loss=0.0928]\n"
     ]
    },
    {
     "name": "stdout",
     "output_type": "stream",
     "text": [
      "Train Loss: 0.0928\n",
      "Val Loss: 0.0881\n",
      "Dice Score: 0.9374\n",
      "IoU Score: 0.8835\n",
      "\n",
      "Epoch 9/50\n"
     ]
    },
    {
     "name": "stderr",
     "output_type": "stream",
     "text": [
      "100%|██████████| 59/59 [04:14<00:00,  4.32s/it, loss=0.0867]\n"
     ]
    },
    {
     "name": "stdout",
     "output_type": "stream",
     "text": [
      "Train Loss: 0.0867\n",
      "Val Loss: 0.0835\n",
      "Dice Score: 0.9383\n",
      "IoU Score: 0.8854\n",
      "\n",
      "Epoch 10/50\n"
     ]
    },
    {
     "name": "stderr",
     "output_type": "stream",
     "text": [
      "100%|██████████| 59/59 [04:14<00:00,  4.32s/it, loss=0.0773]\n"
     ]
    },
    {
     "name": "stdout",
     "output_type": "stream",
     "text": [
      "Train Loss: 0.0773\n",
      "Val Loss: 0.0936\n",
      "Dice Score: 0.9129\n",
      "IoU Score: 0.8416\n",
      "\n",
      "Epoch 11/50\n"
     ]
    },
    {
     "name": "stderr",
     "output_type": "stream",
     "text": [
      "100%|██████████| 59/59 [04:15<00:00,  4.33s/it, loss=0.0664]\n"
     ]
    },
    {
     "name": "stdout",
     "output_type": "stream",
     "text": [
      "Train Loss: 0.0664\n",
      "Val Loss: 0.0731\n",
      "Dice Score: 0.9379\n",
      "IoU Score: 0.8845\n",
      "\n",
      "Epoch 12/50\n"
     ]
    },
    {
     "name": "stderr",
     "output_type": "stream",
     "text": [
      "100%|██████████| 59/59 [04:14<00:00,  4.31s/it, loss=0.0619]\n"
     ]
    },
    {
     "name": "stdout",
     "output_type": "stream",
     "text": [
      "Train Loss: 0.0619\n",
      "Val Loss: 0.0700\n",
      "Dice Score: 0.9405\n",
      "IoU Score: 0.8891\n",
      "Saved best model with Dice score: 0.9405\n",
      "\n",
      "Epoch 13/50\n"
     ]
    },
    {
     "name": "stderr",
     "output_type": "stream",
     "text": [
      "100%|██████████| 59/59 [04:14<00:00,  4.32s/it, loss=0.0566]\n"
     ]
    },
    {
     "name": "stdout",
     "output_type": "stream",
     "text": [
      "Train Loss: 0.0566\n",
      "Val Loss: 0.0661\n",
      "Dice Score: 0.9426\n",
      "IoU Score: 0.8929\n",
      "Saved best model with Dice score: 0.9426\n",
      "\n",
      "Epoch 14/50\n"
     ]
    },
    {
     "name": "stderr",
     "output_type": "stream",
     "text": [
      "100%|██████████| 59/59 [04:14<00:00,  4.32s/it, loss=0.0518]\n"
     ]
    },
    {
     "name": "stdout",
     "output_type": "stream",
     "text": [
      "Train Loss: 0.0518\n",
      "Val Loss: 0.0676\n",
      "Dice Score: 0.9388\n",
      "IoU Score: 0.8866\n",
      "\n",
      "Epoch 15/50\n"
     ]
    },
    {
     "name": "stderr",
     "output_type": "stream",
     "text": [
      "100%|██████████| 59/59 [04:14<00:00,  4.32s/it, loss=0.0488]\n"
     ]
    },
    {
     "name": "stdout",
     "output_type": "stream",
     "text": [
      "Train Loss: 0.0488\n",
      "Val Loss: 0.0692\n",
      "Dice Score: 0.9324\n",
      "IoU Score: 0.8753\n",
      "\n",
      "Epoch 16/50\n"
     ]
    },
    {
     "name": "stderr",
     "output_type": "stream",
     "text": [
      "100%|██████████| 59/59 [04:14<00:00,  4.31s/it, loss=0.0458]\n"
     ]
    },
    {
     "name": "stdout",
     "output_type": "stream",
     "text": [
      "Train Loss: 0.0458\n",
      "Val Loss: 0.0658\n",
      "Dice Score: 0.9344\n",
      "IoU Score: 0.8789\n",
      "\n",
      "Epoch 17/50\n"
     ]
    },
    {
     "name": "stderr",
     "output_type": "stream",
     "text": [
      "100%|██████████| 59/59 [04:15<00:00,  4.32s/it, loss=0.0446]\n"
     ]
    },
    {
     "name": "stdout",
     "output_type": "stream",
     "text": [
      "Train Loss: 0.0446\n",
      "Val Loss: 0.0653\n",
      "Dice Score: 0.9351\n",
      "IoU Score: 0.8801\n",
      "\n",
      "Epoch 18/50\n"
     ]
    },
    {
     "name": "stderr",
     "output_type": "stream",
     "text": [
      "100%|██████████| 59/59 [04:15<00:00,  4.33s/it, loss=0.0422]\n"
     ]
    },
    {
     "name": "stdout",
     "output_type": "stream",
     "text": [
      "Train Loss: 0.0422\n",
      "Val Loss: 0.0614\n",
      "Dice Score: 0.9395\n",
      "IoU Score: 0.8880\n",
      "\n",
      "Epoch 19/50\n"
     ]
    },
    {
     "name": "stderr",
     "output_type": "stream",
     "text": [
      "100%|██████████| 59/59 [04:14<00:00,  4.32s/it, loss=0.0394]\n"
     ]
    },
    {
     "name": "stdout",
     "output_type": "stream",
     "text": [
      "Train Loss: 0.0394\n",
      "Val Loss: 0.0706\n",
      "Dice Score: 0.9246\n",
      "IoU Score: 0.8620\n",
      "\n",
      "Epoch 20/50\n"
     ]
    },
    {
     "name": "stderr",
     "output_type": "stream",
     "text": [
      "100%|██████████| 59/59 [04:14<00:00,  4.32s/it, loss=0.0379]\n"
     ]
    },
    {
     "name": "stdout",
     "output_type": "stream",
     "text": [
      "Train Loss: 0.0379\n",
      "Val Loss: 0.0600\n",
      "Dice Score: 0.9395\n",
      "IoU Score: 0.8878\n",
      "\n",
      "Epoch 21/50\n"
     ]
    },
    {
     "name": "stderr",
     "output_type": "stream",
     "text": [
      "100%|██████████| 59/59 [04:15<00:00,  4.33s/it, loss=0.0371]\n"
     ]
    },
    {
     "name": "stdout",
     "output_type": "stream",
     "text": [
      "Train Loss: 0.0371\n",
      "Val Loss: 0.0590\n",
      "Dice Score: 0.9398\n",
      "IoU Score: 0.8883\n",
      "\n",
      "Epoch 22/50\n"
     ]
    },
    {
     "name": "stderr",
     "output_type": "stream",
     "text": [
      "100%|██████████| 59/59 [04:14<00:00,  4.31s/it, loss=0.0355]\n"
     ]
    },
    {
     "name": "stdout",
     "output_type": "stream",
     "text": [
      "Train Loss: 0.0355\n",
      "Val Loss: 0.0556\n",
      "Dice Score: 0.9438\n",
      "IoU Score: 0.8956\n",
      "Saved best model with Dice score: 0.9438\n",
      "\n",
      "Epoch 23/50\n"
     ]
    },
    {
     "name": "stderr",
     "output_type": "stream",
     "text": [
      "100%|██████████| 59/59 [04:14<00:00,  4.32s/it, loss=0.0349]\n"
     ]
    },
    {
     "name": "stdout",
     "output_type": "stream",
     "text": [
      "Train Loss: 0.0349\n",
      "Val Loss: 0.0565\n",
      "Dice Score: 0.9407\n",
      "IoU Score: 0.8896\n",
      "\n",
      "Epoch 24/50\n"
     ]
    },
    {
     "name": "stderr",
     "output_type": "stream",
     "text": [
      "100%|██████████| 59/59 [04:14<00:00,  4.32s/it, loss=0.0326]\n"
     ]
    },
    {
     "name": "stdout",
     "output_type": "stream",
     "text": [
      "Train Loss: 0.0326\n",
      "Val Loss: 0.0551\n",
      "Dice Score: 0.9433\n",
      "IoU Score: 0.8942\n",
      "\n",
      "Epoch 25/50\n"
     ]
    },
    {
     "name": "stderr",
     "output_type": "stream",
     "text": [
      "100%|██████████| 59/59 [04:14<00:00,  4.32s/it, loss=0.0314]\n"
     ]
    },
    {
     "name": "stdout",
     "output_type": "stream",
     "text": [
      "Train Loss: 0.0314\n",
      "Val Loss: 0.0565\n",
      "Dice Score: 0.9408\n",
      "IoU Score: 0.8903\n",
      "\n",
      "Epoch 26/50\n"
     ]
    },
    {
     "name": "stderr",
     "output_type": "stream",
     "text": [
      "100%|██████████| 59/59 [04:14<00:00,  4.32s/it, loss=0.0298]\n"
     ]
    },
    {
     "name": "stdout",
     "output_type": "stream",
     "text": [
      "Train Loss: 0.0298\n",
      "Val Loss: 0.0598\n",
      "Dice Score: 0.9345\n",
      "IoU Score: 0.8792\n",
      "\n",
      "Epoch 27/50\n"
     ]
    },
    {
     "name": "stderr",
     "output_type": "stream",
     "text": [
      "100%|██████████| 59/59 [04:14<00:00,  4.32s/it, loss=0.0293]\n"
     ]
    },
    {
     "name": "stdout",
     "output_type": "stream",
     "text": [
      "Train Loss: 0.0293\n",
      "Val Loss: 0.0555\n",
      "Dice Score: 0.9419\n",
      "IoU Score: 0.8921\n",
      "\n",
      "Epoch 28/50\n"
     ]
    },
    {
     "name": "stderr",
     "output_type": "stream",
     "text": [
      "100%|██████████| 59/59 [04:14<00:00,  4.32s/it, loss=0.0293]\n"
     ]
    },
    {
     "name": "stdout",
     "output_type": "stream",
     "text": [
      "Train Loss: 0.0293\n",
      "Val Loss: 0.0518\n",
      "Dice Score: 0.9465\n",
      "IoU Score: 0.9003\n",
      "Saved best model with Dice score: 0.9465\n",
      "\n",
      "Epoch 29/50\n"
     ]
    },
    {
     "name": "stderr",
     "output_type": "stream",
     "text": [
      "100%|██████████| 59/59 [04:14<00:00,  4.32s/it, loss=0.0294]\n"
     ]
    },
    {
     "name": "stdout",
     "output_type": "stream",
     "text": [
      "Train Loss: 0.0294\n",
      "Val Loss: 0.0520\n",
      "Dice Score: 0.9452\n",
      "IoU Score: 0.8978\n",
      "\n",
      "Epoch 30/50\n"
     ]
    },
    {
     "name": "stderr",
     "output_type": "stream",
     "text": [
      "100%|██████████| 59/59 [04:14<00:00,  4.32s/it, loss=0.0285]\n"
     ]
    },
    {
     "name": "stdout",
     "output_type": "stream",
     "text": [
      "Train Loss: 0.0285\n",
      "Val Loss: 0.0542\n",
      "Dice Score: 0.9420\n",
      "IoU Score: 0.8924\n",
      "\n",
      "Epoch 31/50\n"
     ]
    },
    {
     "name": "stderr",
     "output_type": "stream",
     "text": [
      "100%|██████████| 59/59 [04:15<00:00,  4.33s/it, loss=0.028]\n"
     ]
    },
    {
     "name": "stdout",
     "output_type": "stream",
     "text": [
      "Train Loss: 0.0280\n",
      "Val Loss: 0.0628\n",
      "Dice Score: 0.9294\n",
      "IoU Score: 0.8705\n",
      "\n",
      "Epoch 32/50\n"
     ]
    },
    {
     "name": "stderr",
     "output_type": "stream",
     "text": [
      "100%|██████████| 59/59 [04:14<00:00,  4.32s/it, loss=0.0262]\n"
     ]
    },
    {
     "name": "stdout",
     "output_type": "stream",
     "text": [
      "Train Loss: 0.0262\n",
      "Val Loss: 0.0527\n",
      "Dice Score: 0.9425\n",
      "IoU Score: 0.8935\n",
      "\n",
      "Epoch 33/50\n"
     ]
    },
    {
     "name": "stderr",
     "output_type": "stream",
     "text": [
      "100%|██████████| 59/59 [04:14<00:00,  4.31s/it, loss=0.0249]\n"
     ]
    },
    {
     "name": "stdout",
     "output_type": "stream",
     "text": [
      "Train Loss: 0.0249\n",
      "Val Loss: 0.0531\n",
      "Dice Score: 0.9415\n",
      "IoU Score: 0.8913\n",
      "\n",
      "Epoch 34/50\n"
     ]
    },
    {
     "name": "stderr",
     "output_type": "stream",
     "text": [
      "100%|██████████| 59/59 [04:14<00:00,  4.32s/it, loss=0.0238]\n"
     ]
    },
    {
     "name": "stdout",
     "output_type": "stream",
     "text": [
      "Train Loss: 0.0238\n",
      "Val Loss: 0.0532\n",
      "Dice Score: 0.9412\n",
      "IoU Score: 0.8911\n",
      "\n",
      "Epoch 35/50\n"
     ]
    },
    {
     "name": "stderr",
     "output_type": "stream",
     "text": [
      "100%|██████████| 59/59 [04:14<00:00,  4.31s/it, loss=0.0229]\n"
     ]
    },
    {
     "name": "stdout",
     "output_type": "stream",
     "text": [
      "Train Loss: 0.0229\n",
      "Val Loss: 0.0524\n",
      "Dice Score: 0.9427\n",
      "IoU Score: 0.8936\n",
      "\n",
      "Epoch 36/50\n"
     ]
    },
    {
     "name": "stderr",
     "output_type": "stream",
     "text": [
      "100%|██████████| 59/59 [04:15<00:00,  4.32s/it, loss=0.022]\n"
     ]
    },
    {
     "name": "stdout",
     "output_type": "stream",
     "text": [
      "Train Loss: 0.0220\n",
      "Val Loss: 0.0526\n",
      "Dice Score: 0.9418\n",
      "IoU Score: 0.8922\n",
      "\n",
      "Epoch 37/50\n"
     ]
    },
    {
     "name": "stderr",
     "output_type": "stream",
     "text": [
      "100%|██████████| 59/59 [04:14<00:00,  4.31s/it, loss=0.0215]\n"
     ]
    },
    {
     "name": "stdout",
     "output_type": "stream",
     "text": [
      "Train Loss: 0.0215\n",
      "Val Loss: 0.0520\n",
      "Dice Score: 0.9427\n",
      "IoU Score: 0.8937\n",
      "\n",
      "Epoch 38/50\n"
     ]
    },
    {
     "name": "stderr",
     "output_type": "stream",
     "text": [
      "100%|██████████| 59/59 [04:14<00:00,  4.32s/it, loss=0.0209]\n"
     ]
    },
    {
     "name": "stdout",
     "output_type": "stream",
     "text": [
      "Train Loss: 0.0209\n",
      "Val Loss: 0.0517\n",
      "Dice Score: 0.9433\n",
      "IoU Score: 0.8947\n",
      "\n",
      "Epoch 39/50\n"
     ]
    },
    {
     "name": "stderr",
     "output_type": "stream",
     "text": [
      "100%|██████████| 59/59 [04:14<00:00,  4.32s/it, loss=0.0208]\n"
     ]
    },
    {
     "name": "stdout",
     "output_type": "stream",
     "text": [
      "Train Loss: 0.0208\n",
      "Val Loss: 0.0544\n",
      "Dice Score: 0.9388\n",
      "IoU Score: 0.8870\n",
      "\n",
      "Epoch 40/50\n"
     ]
    },
    {
     "name": "stderr",
     "output_type": "stream",
     "text": [
      "100%|██████████| 59/59 [04:14<00:00,  4.31s/it, loss=0.0204]\n"
     ]
    },
    {
     "name": "stdout",
     "output_type": "stream",
     "text": [
      "Train Loss: 0.0204\n",
      "Val Loss: 0.0512\n",
      "Dice Score: 0.9435\n",
      "IoU Score: 0.8951\n",
      "\n",
      "Epoch 41/50\n"
     ]
    },
    {
     "name": "stderr",
     "output_type": "stream",
     "text": [
      "100%|██████████| 59/59 [04:15<00:00,  4.33s/it, loss=0.0204]\n"
     ]
    },
    {
     "name": "stdout",
     "output_type": "stream",
     "text": [
      "Train Loss: 0.0204\n",
      "Val Loss: 0.0515\n",
      "Dice Score: 0.9431\n",
      "IoU Score: 0.8944\n",
      "\n",
      "Epoch 42/50\n"
     ]
    },
    {
     "name": "stderr",
     "output_type": "stream",
     "text": [
      "100%|██████████| 59/59 [04:14<00:00,  4.32s/it, loss=0.02]\n"
     ]
    },
    {
     "name": "stdout",
     "output_type": "stream",
     "text": [
      "Train Loss: 0.0200\n",
      "Val Loss: 0.0515\n",
      "Dice Score: 0.9424\n",
      "IoU Score: 0.8932\n",
      "\n",
      "Epoch 43/50\n"
     ]
    },
    {
     "name": "stderr",
     "output_type": "stream",
     "text": [
      "100%|██████████| 59/59 [04:15<00:00,  4.32s/it, loss=0.0199]\n"
     ]
    },
    {
     "name": "stdout",
     "output_type": "stream",
     "text": [
      "Train Loss: 0.0199\n",
      "Val Loss: 0.0530\n",
      "Dice Score: 0.9403\n",
      "IoU Score: 0.8897\n",
      "\n",
      "Epoch 44/50\n"
     ]
    },
    {
     "name": "stderr",
     "output_type": "stream",
     "text": [
      "100%|██████████| 59/59 [04:14<00:00,  4.32s/it, loss=0.0196]\n"
     ]
    },
    {
     "name": "stdout",
     "output_type": "stream",
     "text": [
      "Train Loss: 0.0196\n",
      "Val Loss: 0.0498\n",
      "Dice Score: 0.9448\n",
      "IoU Score: 0.8973\n",
      "\n",
      "Epoch 45/50\n"
     ]
    },
    {
     "name": "stderr",
     "output_type": "stream",
     "text": [
      "100%|██████████| 59/59 [04:15<00:00,  4.32s/it, loss=0.0198]\n"
     ]
    },
    {
     "name": "stdout",
     "output_type": "stream",
     "text": [
      "Train Loss: 0.0198\n",
      "Val Loss: 0.0523\n",
      "Dice Score: 0.9415\n",
      "IoU Score: 0.8917\n",
      "\n",
      "Epoch 46/50\n"
     ]
    },
    {
     "name": "stderr",
     "output_type": "stream",
     "text": [
      "100%|██████████| 59/59 [04:14<00:00,  4.32s/it, loss=0.0193]\n"
     ]
    },
    {
     "name": "stdout",
     "output_type": "stream",
     "text": [
      "Train Loss: 0.0193\n",
      "Val Loss: 0.0530\n",
      "Dice Score: 0.9410\n",
      "IoU Score: 0.8909\n",
      "\n",
      "Epoch 47/50\n"
     ]
    },
    {
     "name": "stderr",
     "output_type": "stream",
     "text": [
      "100%|██████████| 59/59 [04:14<00:00,  4.31s/it, loss=0.0195]\n"
     ]
    },
    {
     "name": "stdout",
     "output_type": "stream",
     "text": [
      "Train Loss: 0.0195\n",
      "Val Loss: 0.0513\n",
      "Dice Score: 0.9428\n",
      "IoU Score: 0.8940\n",
      "\n",
      "Epoch 48/50\n"
     ]
    },
    {
     "name": "stderr",
     "output_type": "stream",
     "text": [
      "100%|██████████| 59/59 [04:15<00:00,  4.33s/it, loss=0.019]\n"
     ]
    },
    {
     "name": "stdout",
     "output_type": "stream",
     "text": [
      "Train Loss: 0.0190\n",
      "Val Loss: 0.0505\n",
      "Dice Score: 0.9438\n",
      "IoU Score: 0.8958\n",
      "\n",
      "Epoch 49/50\n"
     ]
    },
    {
     "name": "stderr",
     "output_type": "stream",
     "text": [
      "100%|██████████| 59/59 [04:14<00:00,  4.32s/it, loss=0.0188]\n"
     ]
    },
    {
     "name": "stdout",
     "output_type": "stream",
     "text": [
      "Train Loss: 0.0188\n",
      "Val Loss: 0.0505\n",
      "Dice Score: 0.9441\n",
      "IoU Score: 0.8963\n",
      "\n",
      "Epoch 50/50\n"
     ]
    },
    {
     "name": "stderr",
     "output_type": "stream",
     "text": [
      "100%|██████████| 59/59 [04:14<00:00,  4.31s/it, loss=0.0183]\n"
     ]
    },
    {
     "name": "stdout",
     "output_type": "stream",
     "text": [
      "Train Loss: 0.0183\n",
      "Val Loss: 0.0504\n",
      "Dice Score: 0.9435\n",
      "IoU Score: 0.8949\n",
      "\n",
      "Final Test Metrics:\n",
      "Test Loss: 0.0444\n",
      "Test Dice Score: 0.9589\n",
      "Test IoU Score: 0.9219\n",
      "Training completed!\n"
     ]
    }
   ],
   "source": [
    "import os\n",
    "import torch\n",
    "import torch.nn as nn\n",
    "import torch.optim as optim\n",
    "from torch.utils.data import Dataset, DataLoader\n",
    "from torchvision.models.segmentation import deeplabv3_resnet50\n",
    "from torch.utils.tensorboard import SummaryWriter\n",
    "import cv2\n",
    "import numpy as np\n",
    "from tqdm import tqdm\n",
    "import albumentations as A\n",
    "from albumentations.pytorch import ToTensorV2\n",
    "import matplotlib.pyplot as plt\n",
    "import random\n",
    "from datetime import datetime\n",
    "\n",
    "# Set paths\n",
    "DATA_DIR = '/kaggle/input/kvasir-dataset/kvasir-instrument'\n",
    "RESULTS_DIR = '/kaggle/working/results'\n",
    "os.makedirs(RESULTS_DIR, exist_ok=True)\n",
    "\n",
    "# Set random seed for reproducibility\n",
    "def seed_everything(seed=42):\n",
    "    random.seed(seed)\n",
    "    np.random.seed(seed)\n",
    "    torch.manual_seed(seed)\n",
    "    torch.cuda.manual_seed(seed)\n",
    "    torch.backends.cudnn.deterministic = True\n",
    "\n",
    "seed_everything()\n",
    "\n",
    "def get_preprocessing():\n",
    "    return A.Compose([\n",
    "        A.Resize(height=512, width=512),\n",
    "        A.Normalize(mean=[0.485, 0.456, 0.406], std=[0.229, 0.224, 0.225]),\n",
    "        ToTensorV2(),\n",
    "    ])\n",
    "\n",
    "class KvasirSegmentationDataset(Dataset):\n",
    "    def __init__(self, data_dir, split='train', transform=None):\n",
    "        self.data_dir = data_dir\n",
    "        self.transform = transform\n",
    "        self.split = split\n",
    "        \n",
    "        # Get all image files\n",
    "        image_dir = os.path.join(data_dir, 'images')\n",
    "        mask_dir = os.path.join(data_dir, 'masks')\n",
    "        \n",
    "        if not os.path.exists(image_dir):\n",
    "            raise RuntimeError(f'Image directory not found: {image_dir}')\n",
    "        if not os.path.exists(mask_dir):\n",
    "            raise RuntimeError(f'Mask directory not found: {mask_dir}')\n",
    "        \n",
    "        # Get all image files\n",
    "        self.images = sorted([\n",
    "            f for f in os.listdir(image_dir)\n",
    "            if f.endswith('.jpg')\n",
    "        ])\n",
    "        \n",
    "        # Verify corresponding masks exist\n",
    "        valid_pairs = []\n",
    "        for img_name in self.images:\n",
    "            mask_name = img_name.replace('.jpg', '.png')\n",
    "            mask_path = os.path.join(mask_dir, mask_name)\n",
    "            \n",
    "            if os.path.exists(mask_path):\n",
    "                valid_pairs.append((img_name, mask_name))\n",
    "            else:\n",
    "                print(f\"Warning: Mask not found for {img_name}, skipping...\")\n",
    "        \n",
    "        if len(valid_pairs) == 0:\n",
    "            raise RuntimeError(f'No valid image-mask pairs found in {data_dir}')\n",
    "        \n",
    "        print(f\"Found {len(valid_pairs)} valid image-mask pairs\")\n",
    "        \n",
    "        # Split dataset\n",
    "        total_size = len(valid_pairs)\n",
    "        train_size = int(0.8 * total_size)\n",
    "        val_size = int(0.1 * total_size)\n",
    "        \n",
    "        if split == 'train':\n",
    "            self.image_mask_pairs = valid_pairs[:train_size]\n",
    "        elif split == 'val':\n",
    "            self.image_mask_pairs = valid_pairs[train_size:train_size + val_size]\n",
    "        else:  # test\n",
    "            self.image_mask_pairs = valid_pairs[train_size + val_size:]\n",
    "        \n",
    "        print(f\"{split.capitalize()} set size: {len(self.image_mask_pairs)}\")\n",
    "    \n",
    "    def __len__(self):\n",
    "        return len(self.image_mask_pairs)\n",
    "    \n",
    "    def __getitem__(self, idx):\n",
    "        img_name, mask_name = self.image_mask_pairs[idx]\n",
    "        img_path = os.path.join(self.data_dir, 'images', img_name)\n",
    "        mask_path = os.path.join(self.data_dir, 'masks', mask_name)\n",
    "        \n",
    "        # Read image\n",
    "        image = cv2.imread(img_path)\n",
    "        if image is None:\n",
    "            raise RuntimeError(f'Failed to load image: {img_path}')\n",
    "        image = cv2.cvtColor(image, cv2.COLOR_BGR2RGB)\n",
    "        \n",
    "        # Read mask\n",
    "        mask = cv2.imread(mask_path, cv2.IMREAD_GRAYSCALE)\n",
    "        if mask is None:\n",
    "            raise RuntimeError(f'Failed to load mask: {mask_path}')\n",
    "        \n",
    "        # Normalize mask to binary\n",
    "        mask = (mask > 127).astype(np.float32)\n",
    "        \n",
    "        if self.transform:\n",
    "            augmented = self.transform(image=image, mask=mask)\n",
    "            image = augmented['image']\n",
    "            mask = augmented['mask']\n",
    "        \n",
    "        # Add channel dimension to mask\n",
    "        mask = mask.unsqueeze(0)\n",
    "        \n",
    "        return image, mask\n",
    "\n",
    "def dice_loss(pred, target):\n",
    "    smooth = 1.0\n",
    "    pred = torch.sigmoid(pred)\n",
    "    intersection = (pred * target).sum(dim=(2,3))\n",
    "    union = pred.sum(dim=(2,3)) + target.sum(dim=(2,3))\n",
    "    \n",
    "    dice = (2.0 * intersection + smooth) / (union + smooth)\n",
    "    return 1 - dice.mean()\n",
    "\n",
    "def calculate_metrics(pred, target):\n",
    "    pred = (pred > 0.5).float()\n",
    "    target = target.float()\n",
    "    \n",
    "    # Calculate IoU\n",
    "    intersection = (pred * target).sum()\n",
    "    union = (pred + target).sum() - intersection\n",
    "    iou = (intersection + 1e-8) / (union + 1e-8)\n",
    "    \n",
    "    # Calculate Dice\n",
    "    dice = (2.0 * intersection + 1e-8) / (pred.sum() + target.sum() + 1e-8)\n",
    "    \n",
    "    return iou.item(), dice.item()\n",
    "\n",
    "def train_one_epoch(model, loader, criterion, optimizer, device):\n",
    "    model.train()\n",
    "    total_loss = 0\n",
    "    \n",
    "    with tqdm(loader) as pbar:\n",
    "        for images, masks in pbar:\n",
    "            images = images.to(device)\n",
    "            masks = masks.to(device)\n",
    "            \n",
    "            optimizer.zero_grad()\n",
    "            outputs = model(images)['out']\n",
    "            loss = criterion(outputs, masks)\n",
    "            \n",
    "            loss.backward()\n",
    "            optimizer.step()\n",
    "            \n",
    "            total_loss += loss.item()\n",
    "            pbar.set_postfix({'loss': total_loss / (pbar.n + 1)})\n",
    "    \n",
    "    return total_loss / len(loader)\n",
    "\n",
    "def validate(model, loader, criterion, device):\n",
    "    model.eval()\n",
    "    total_loss = 0\n",
    "    dice_scores = []\n",
    "    iou_scores = []\n",
    "    \n",
    "    with torch.no_grad():\n",
    "        for images, masks in loader:\n",
    "            images = images.to(device)\n",
    "            masks = masks.to(device)\n",
    "            \n",
    "            outputs = model(images)['out']\n",
    "            loss = criterion(outputs, masks)\n",
    "            \n",
    "            # Calculate metrics\n",
    "            iou, dice = calculate_metrics(outputs, masks)\n",
    "            dice_scores.append(dice)\n",
    "            iou_scores.append(iou)\n",
    "            \n",
    "            total_loss += loss.item()\n",
    "    \n",
    "    return total_loss / len(loader), np.mean(dice_scores), np.mean(iou_scores)\n",
    "\n",
    "def plot_training_curves(train_losses, val_losses, dice_scores, iou_scores, save_dir):\n",
    "    plt.figure(figsize=(15, 10))\n",
    "    \n",
    "    # Plot losses\n",
    "    plt.subplot(2, 2, 1)\n",
    "    plt.plot(train_losses, label='Train Loss')\n",
    "    plt.plot(val_losses, label='Val Loss')\n",
    "    plt.title('Training and Validation Loss')\n",
    "    plt.xlabel('Epoch')\n",
    "    plt.ylabel('Loss')\n",
    "    plt.legend()\n",
    "    \n",
    "    # Plot Dice scores\n",
    "    plt.subplot(2, 2, 2)\n",
    "    plt.plot(dice_scores, label='Dice Score')\n",
    "    plt.title('Validation Dice Score')\n",
    "    plt.xlabel('Epoch')\n",
    "    plt.ylabel('Dice Score')\n",
    "    plt.legend()\n",
    "    \n",
    "    # Plot IoU scores\n",
    "    plt.subplot(2, 2, 3)\n",
    "    plt.plot(iou_scores, label='IoU Score')\n",
    "    plt.title('Validation IoU Score')\n",
    "    plt.xlabel('Epoch')\n",
    "    plt.ylabel('IoU Score')\n",
    "    plt.legend()\n",
    "    \n",
    "    plt.tight_layout()\n",
    "    plt.savefig(os.path.join(save_dir, 'training_curves.png'))\n",
    "    plt.close()\n",
    "\n",
    "def visualize_predictions(model, loader, device, save_dir, num_samples=5):\n",
    "    model.eval()\n",
    "    os.makedirs(os.path.join(save_dir, 'predictions'), exist_ok=True)\n",
    "    \n",
    "    with torch.no_grad():\n",
    "        for i, (images, masks) in enumerate(loader):\n",
    "            if i >= num_samples:\n",
    "                break\n",
    "                \n",
    "            images = images.to(device)\n",
    "            masks = masks.to(device)\n",
    "            \n",
    "            outputs = model(images)['out']\n",
    "            preds = (torch.sigmoid(outputs) > 0.5).float()\n",
    "            \n",
    "            for j in range(images.size(0)):\n",
    "                plt.figure(figsize=(15, 5))\n",
    "                \n",
    "                # Original image\n",
    "                plt.subplot(1, 3, 1)\n",
    "                img = images[j].cpu().numpy().transpose(1, 2, 0)\n",
    "                img = (img * np.array([0.229, 0.224, 0.225]) + np.array([0.485, 0.456, 0.406])) * 255\n",
    "                plt.imshow(img.astype(np.uint8))\n",
    "                plt.title('Original Image')\n",
    "                plt.axis('off')\n",
    "                \n",
    "                # Ground truth\n",
    "                plt.subplot(1, 3, 2)\n",
    "                plt.imshow(masks[j, 0].cpu().numpy(), cmap='gray')\n",
    "                plt.title('Ground Truth')\n",
    "                plt.axis('off')\n",
    "                \n",
    "                # Prediction\n",
    "                plt.subplot(1, 3, 3)\n",
    "                plt.imshow(preds[j, 0].cpu().numpy(), cmap='gray')\n",
    "                plt.title('Prediction')\n",
    "                plt.axis('off')\n",
    "                \n",
    "                plt.tight_layout()\n",
    "                plt.savefig(os.path.join(save_dir, 'predictions', f'sample_{i}_{j}.png'))\n",
    "                plt.close()\n",
    "\n",
    "def main():\n",
    "    # Set device\n",
    "    device = torch.device('cuda' if torch.cuda.is_available() else 'cpu')\n",
    "    print(f\"Using device: {device}\")\n",
    "    \n",
    "    # Create preprocessing\n",
    "    preprocessing = get_preprocessing()\n",
    "    \n",
    "    # Create datasets\n",
    "    train_dataset = KvasirSegmentationDataset(\n",
    "        DATA_DIR,\n",
    "        split='train',\n",
    "        transform=preprocessing\n",
    "    )\n",
    "    val_dataset = KvasirSegmentationDataset(\n",
    "        DATA_DIR,\n",
    "        split='val',\n",
    "        transform=preprocessing\n",
    "    )\n",
    "    test_dataset = KvasirSegmentationDataset(\n",
    "        DATA_DIR,\n",
    "        split='test',\n",
    "        transform=preprocessing\n",
    "    )\n",
    "    \n",
    "    # Create dataloaders\n",
    "    train_loader = DataLoader(\n",
    "        train_dataset,\n",
    "        batch_size=8,\n",
    "        shuffle=True,\n",
    "        num_workers=4,\n",
    "        pin_memory=True\n",
    "    )\n",
    "    val_loader = DataLoader(\n",
    "        val_dataset,\n",
    "        batch_size=8,\n",
    "        shuffle=False,\n",
    "        num_workers=4,\n",
    "        pin_memory=True\n",
    "    )\n",
    "    test_loader = DataLoader(\n",
    "        test_dataset,\n",
    "        batch_size=8,\n",
    "        shuffle=False,\n",
    "        num_workers=4,\n",
    "        pin_memory=True\n",
    "    )\n",
    "    \n",
    "    # Create model\n",
    "    model = deeplabv3_resnet50(num_classes=1).to(device)\n",
    "    \n",
    "    # Create optimizer and scheduler\n",
    "    optimizer = optim.AdamW([\n",
    "        {'params': model.backbone.parameters(), 'lr': 1e-5},\n",
    "        {'params': model.classifier.parameters(), 'lr': 1e-4},\n",
    "    ])\n",
    "    scheduler = optim.lr_scheduler.ReduceLROnPlateau(\n",
    "        optimizer, mode='min', factor=0.5, patience=5, verbose=True\n",
    "    )\n",
    "    \n",
    "    # Create criterion\n",
    "    criterion = dice_loss\n",
    "    \n",
    "    # Initialize lists for tracking metrics\n",
    "    train_losses = []\n",
    "    val_losses = []\n",
    "    dice_scores = []\n",
    "    iou_scores = []\n",
    "    \n",
    "    # Create timestamped directory for results\n",
    "    timestamp = datetime.now().strftime(\"%Y%m%d_%H%M%S\")\n",
    "    save_dir = os.path.join(RESULTS_DIR, f'deeplabv3_{timestamp}')\n",
    "    os.makedirs(save_dir, exist_ok=True)\n",
    "    \n",
    "    # Training loop\n",
    "    num_epochs = 50\n",
    "    best_dice = 0.0\n",
    "    \n",
    "    for epoch in range(num_epochs):\n",
    "        print(f\"\\nEpoch {epoch+1}/{num_epochs}\")\n",
    "        \n",
    "        # Train\n",
    "        train_loss = train_one_epoch(model, train_loader, criterion, optimizer, device)\n",
    "        train_losses.append(train_loss)\n",
    "        \n",
    "        # Validate\n",
    "        val_loss, dice_score, iou_score = validate(model, val_loader, criterion, device)\n",
    "        val_losses.append(val_loss)\n",
    "        dice_scores.append(dice_score)\n",
    "        iou_scores.append(iou_score)\n",
    "        \n",
    "        # Update scheduler\n",
    "        scheduler.step(val_loss)\n",
    "        \n",
    "        print(f\"Train Loss: {train_loss:.4f}\")\n",
    "        print(f\"Val Loss: {val_loss:.4f}\")\n",
    "        print(f\"Dice Score: {dice_score:.4f}\")\n",
    "        print(f\"IoU Score: {iou_score:.4f}\")\n",
    "        \n",
    "        # Save best model\n",
    "        if dice_score > best_dice:\n",
    "            best_dice = dice_score\n",
    "            torch.save({\n",
    "                'epoch': epoch,\n",
    "                'model_state_dict': model.state_dict(),\n",
    "                'optimizer_state_dict': optimizer.state_dict(),\n",
    "                'best_dice': best_dice,\n",
    "            }, os.path.join(save_dir, 'best_model.pth'))\n",
    "            print(f\"Saved best model with Dice score: {best_dice:.4f}\")\n",
    "        \n",
    "        # Plot training curves every 10 epochs\n",
    "        if (epoch + 1) % 10 == 0:\n",
    "            plot_training_curves(train_losses, val_losses, dice_scores, iou_scores, save_dir)\n",
    "            visualize_predictions(model, val_loader, device, save_dir)\n",
    "    \n",
    "    # Final evaluation on test set\n",
    "    test_loss, test_dice, test_iou = validate(model, test_loader, criterion, device)\n",
    "    print(f\"\\nFinal Test Metrics:\")\n",
    "    print(f\"Test Loss: {test_loss:.4f}\")\n",
    "    print(f\"Test Dice Score: {test_dice:.4f}\")\n",
    "    print(f\"Test IoU Score: {test_iou:.4f}\")\n",
    "    \n",
    "    # Save final metrics\n",
    "    with open(os.path.join(save_dir, 'final_metrics.txt'), 'w') as f:\n",
    "        f.write(f\"Test Loss: {test_loss:.4f}\\n\")\n",
    "        f.write(f\"Test Dice Score: {test_dice:.4f}\\n\")\n",
    "        f.write(f\"Test IoU Score: {test_iou:.4f}\\n\")\n",
    "    \n",
    "    # Visualize test results\n",
    "    visualize_predictions(model, test_loader, device, save_dir)\n",
    "    \n",
    "    print(\"Training completed!\")\n",
    "\n",
    "if __name__ == \"__main__\":\n",
    "    main()"
   ]
  },
  {
   "cell_type": "code",
   "execution_count": null,
   "id": "519a1941",
   "metadata": {
    "papermill": {
     "duration": 0.230772,
     "end_time": "2025-04-26T01:24:18.502225",
     "exception": false,
     "start_time": "2025-04-26T01:24:18.271453",
     "status": "completed"
    },
    "tags": []
   },
   "outputs": [],
   "source": []
  }
 ],
 "metadata": {
  "kaggle": {
   "accelerator": "nvidiaTeslaT4",
   "dataSources": [
    {
     "datasetId": 6712118,
     "sourceId": 10812212,
     "sourceType": "datasetVersion"
    }
   ],
   "dockerImageVersionId": 31011,
   "isGpuEnabled": true,
   "isInternetEnabled": true,
   "language": "python",
   "sourceType": "notebook"
  },
  "kernelspec": {
   "display_name": "Python 3",
   "language": "python",
   "name": "python3"
  },
  "language_info": {
   "codemirror_mode": {
    "name": "ipython",
    "version": 3
   },
   "file_extension": ".py",
   "mimetype": "text/x-python",
   "name": "python",
   "nbconvert_exporter": "python",
   "pygments_lexer": "ipython3",
   "version": "3.11.11"
  },
  "papermill": {
   "default_parameters": {},
   "duration": 13296.24288,
   "end_time": "2025-04-26T01:24:21.758442",
   "environment_variables": {},
   "exception": null,
   "input_path": "__notebook__.ipynb",
   "output_path": "__notebook__.ipynb",
   "parameters": {},
   "start_time": "2025-04-25T21:42:45.515562",
   "version": "2.6.0"
  }
 },
 "nbformat": 4,
 "nbformat_minor": 5
}
